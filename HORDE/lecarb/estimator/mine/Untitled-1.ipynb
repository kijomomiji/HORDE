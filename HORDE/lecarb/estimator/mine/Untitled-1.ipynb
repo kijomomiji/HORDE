{
 "cells": [
  {
   "cell_type": "code",
   "execution_count": 12,
   "metadata": {},
   "outputs": [
    {
     "name": "stdout",
     "output_type": "stream",
     "text": [
      "has successfully loaded data from ./vec_data/census13_original_tree_structure.pkl\n",
      "[{'name': '[0, 1, 2, 3, 4, 5, 6, 7, 8, 9, 10, 11, 12]\\nroot0.1', 'children': [{'name': '[0, 1, 3, 4, 5, 6, 7, 8, 9, 11, 12]\\nhighly correlated0.15000000000000002', 'children': [{'name': '[0, 1, 4, 5, 6, 7, 8, 12]\\nhighly correlated0.25', 'children': [{'name': '[0, 4, 6, 8]\\nhighly correlated0.3', 'children': [{'name': '[0, 4]\\nhighly correlated'}, {'name': '[6, 8]\\nweakly correlated'}]}, {'name': '[1, 5, 7, 12]\\nweakly correlated'}]}, {'name': '[3, 9, 11]\\nweakly correlated'}]}, {'name': '[2, 10]\\nweakly correlated'}]}]\n"
     ]
    },
    {
     "data": {
      "text/html": [
       "\n",
       "<script>\n",
       "    require.config({\n",
       "        paths: {\n",
       "            'echarts':'https://assets.pyecharts.org/assets/v5/echarts.min'\n",
       "        }\n",
       "    });\n",
       "</script>\n",
       "\n",
       "        <div id=\"5bc13d0abb274857b8767089529f26e3\" style=\"width:700px; height:750px;\"></div>\n",
       "\n",
       "<script>\n",
       "        require(['echarts'], function(echarts) {\n",
       "                var chart_5bc13d0abb274857b8767089529f26e3 = echarts.init(\n",
       "                    document.getElementById('5bc13d0abb274857b8767089529f26e3'), 'white', {renderer: 'canvas'});\n",
       "                var option_5bc13d0abb274857b8767089529f26e3 = {\n",
       "    \"backgroundColor\": \"#ffffff\",\n",
       "    \"animation\": true,\n",
       "    \"animationThreshold\": 2000,\n",
       "    \"animationDuration\": 1000,\n",
       "    \"animationEasing\": \"cubicOut\",\n",
       "    \"animationDelay\": 0,\n",
       "    \"animationDurationUpdate\": 300,\n",
       "    \"animationEasingUpdate\": \"cubicOut\",\n",
       "    \"animationDelayUpdate\": 0,\n",
       "    \"aria\": {\n",
       "        \"enabled\": false\n",
       "    },\n",
       "    \"color\": [\n",
       "        \"#5470c6\",\n",
       "        \"#91cc75\",\n",
       "        \"#fac858\",\n",
       "        \"#ee6666\",\n",
       "        \"#73c0de\",\n",
       "        \"#3ba272\",\n",
       "        \"#fc8452\",\n",
       "        \"#9a60b4\",\n",
       "        \"#ea7ccc\"\n",
       "    ],\n",
       "    \"series\": [\n",
       "        {\n",
       "            \"type\": \"tree\",\n",
       "            \"name\": \"tree\",\n",
       "            \"data\": [\n",
       "                {\n",
       "                    \"name\": \"[0, 1, 2, 3, 4, 5, 6, 7, 8, 9, 10, 11, 12]\\nroot0.1\",\n",
       "                    \"children\": [\n",
       "                        {\n",
       "                            \"name\": \"[0, 1, 3, 4, 5, 6, 7, 8, 9, 11, 12]\\nhighly correlated0.15000000000000002\",\n",
       "                            \"children\": [\n",
       "                                {\n",
       "                                    \"name\": \"[0, 1, 4, 5, 6, 7, 8, 12]\\nhighly correlated0.25\",\n",
       "                                    \"children\": [\n",
       "                                        {\n",
       "                                            \"name\": \"[0, 4, 6, 8]\\nhighly correlated0.3\",\n",
       "                                            \"children\": [\n",
       "                                                {\n",
       "                                                    \"name\": \"[0, 4]\\nhighly correlated\"\n",
       "                                                },\n",
       "                                                {\n",
       "                                                    \"name\": \"[6, 8]\\nweakly correlated\"\n",
       "                                                }\n",
       "                                            ]\n",
       "                                        },\n",
       "                                        {\n",
       "                                            \"name\": \"[1, 5, 7, 12]\\nweakly correlated\"\n",
       "                                        }\n",
       "                                    ]\n",
       "                                },\n",
       "                                {\n",
       "                                    \"name\": \"[3, 9, 11]\\nweakly correlated\"\n",
       "                                }\n",
       "                            ]\n",
       "                        },\n",
       "                        {\n",
       "                            \"name\": \"[2, 10]\\nweakly correlated\"\n",
       "                        }\n",
       "                    ]\n",
       "                }\n",
       "            ],\n",
       "            \"symbol\": \"emptyCircle\",\n",
       "            \"symbolSize\": 7,\n",
       "            \"edgeShape\": \"curve\",\n",
       "            \"edgeForkPosition\": \"50%\",\n",
       "            \"roam\": false,\n",
       "            \"expandAndCollapse\": true,\n",
       "            \"initialTreeDepth\": 20,\n",
       "            \"layout\": \"orthogonal\",\n",
       "            \"orient\": \"LR\",\n",
       "            \"label\": {\n",
       "                \"show\": true,\n",
       "                \"margin\": 8\n",
       "            },\n",
       "            \"leaves\": {\n",
       "                \"label\": {\n",
       "                    \"show\": true,\n",
       "                    \"margin\": 8\n",
       "                }\n",
       "            }\n",
       "        }\n",
       "    ],\n",
       "    \"legend\": [\n",
       "        {\n",
       "            \"data\": [],\n",
       "            \"selected\": {}\n",
       "        }\n",
       "    ],\n",
       "    \"tooltip\": {\n",
       "        \"show\": true,\n",
       "        \"trigger\": \"item\",\n",
       "        \"triggerOn\": \"mousemove|click\",\n",
       "        \"axisPointer\": {\n",
       "            \"type\": \"line\"\n",
       "        },\n",
       "        \"showContent\": true,\n",
       "        \"alwaysShowContent\": false,\n",
       "        \"showDelay\": 0,\n",
       "        \"hideDelay\": 100,\n",
       "        \"enterable\": false,\n",
       "        \"confine\": false,\n",
       "        \"appendToBody\": false,\n",
       "        \"transitionDuration\": 0.4,\n",
       "        \"textStyle\": {\n",
       "            \"fontSize\": 14\n",
       "        },\n",
       "        \"borderWidth\": 0,\n",
       "        \"padding\": 5,\n",
       "        \"order\": \"seriesAsc\"\n",
       "    }\n",
       "};\n",
       "                chart_5bc13d0abb274857b8767089529f26e3.setOption(option_5bc13d0abb274857b8767089529f26e3);\n",
       "        });\n",
       "    </script>\n"
      ],
      "text/plain": [
       "<pyecharts.render.display.HTML at 0x7f75600d7860>"
      ]
     },
     "execution_count": 12,
     "metadata": {},
     "output_type": "execute_result"
    }
   ],
   "source": [
    "import pickle\n",
    "def load_data_from_pkl_file(file_name):\n",
    "    load_addr=\"./vec_data/\"+file_name\n",
    "    with open(load_addr, 'rb') as f:\n",
    "        data = pickle.load(f)\n",
    "    print(\"has successfully loaded data from \"+load_addr)\n",
    "    return data\n",
    "\n",
    "import os\n",
    "import json\n",
    "from pyecharts.charts import Tree\n",
    "from pyecharts import options as opts\n",
    "\n",
    "tree_structure=load_data_from_pkl_file(\"census13_original_tree_structure.pkl\")\n",
    "#tree_structure=\"[{'name': '[0, 1, 2, 3, 4, 5, 6, 7, 8, 9, 10, 11, 12]\\nroot0.1', 'children': [{'name': '[0, 1, 3, 4, 5, 6, 7, 8, 9, 11, 12]\\nhighly correlated0.15000000000000002', 'children': [{'name': '[0, 1, 4, 5, 6, 7, 8, 12]\\nhighly correlated0.25', 'children': [{'name': '[0, 4, 6, 8]\\nhighly correlated0.3', 'children': [{'name': '[0, 4]\\nhighly correlated'}, {'name': '[6, 8]\\nweakly correlated'}]}, {'name': '[1, 5, 7, 12]\\nweakly correlated'}]}, {'name': '[3, 9, 11]\\nweakly correlated'}]}, {'name': '[2, 10]\\nweakly correlated'}]}]\"\n",
    "#tree_structure.replace(\"\\n\",'')\n",
    "#tree_structure=load_data_from_pkl_file()\n",
    "d = Tree(init_opts=opts.InitOpts(bg_color='#ffffff',width=\"700px\",\n",
    "                                height=\"750px\",)).add(\n",
    "    series_name=\"tree\",\n",
    "    data=tree_structure,\n",
    "    initial_tree_depth=20,\n",
    ")\n",
    "\n",
    "print(tree_structure)\n",
    "d.render_notebook()\n"
   ]
  },
  {
   "cell_type": "code",
   "execution_count": 1,
   "metadata": {},
   "outputs": [
    {
     "data": {
      "text/plain": [
       "7489.0"
      ]
     },
     "execution_count": 1,
     "metadata": {},
     "output_type": "execute_result"
    }
   ],
   "source": [
    "7.4890e+03"
   ]
  }
 ],
 "metadata": {
  "kernelspec": {
   "display_name": "ready",
   "language": "python",
   "name": "python3"
  },
  "language_info": {
   "codemirror_mode": {
    "name": "ipython",
    "version": 3
   },
   "file_extension": ".py",
   "mimetype": "text/x-python",
   "name": "python",
   "nbconvert_exporter": "python",
   "pygments_lexer": "ipython3",
   "version": "3.8.13 (default, Mar 28 2022, 11:38:47) \n[GCC 7.5.0]"
  },
  "orig_nbformat": 4,
  "vscode": {
   "interpreter": {
    "hash": "09f1a2ffb2cedd8f3d8e0871cf7012746c6415fc4c8bc8cc7a5d557999394386"
   }
  }
 },
 "nbformat": 4,
 "nbformat_minor": 2
}
