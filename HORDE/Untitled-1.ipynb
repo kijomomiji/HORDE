{
 "cells": [
  {
   "cell_type": "code",
   "execution_count": 5,
   "metadata": {},
   "outputs": [
    {
     "name": "stdout",
     "output_type": "stream",
     "text": [
      "[3 3 3 3 3]\n",
      "[0.75       0.6        0.5        0.42857143 0.375     ]\n"
     ]
    }
   ],
   "source": [
    "import numpy as np\n",
    "a=np.array([1,2,3,4,5])\n",
    "b=np.array([4,5,6,7,8])\n",
    "print(np.absolute(a-b))\n",
    "print(np.absolute((a-b)/b))"
   ]
  },
  {
   "cell_type": "code",
   "execution_count": null,
   "metadata": {},
   "outputs": [],
   "source": []
  },
  {
   "cell_type": "code",
   "execution_count": 7,
   "metadata": {},
   "outputs": [
    {
     "ename": "NameError",
     "evalue": "name 'np' is not defined",
     "output_type": "error",
     "traceback": [
      "\u001b[0;31m---------------------------------------------------------------------------\u001b[0m",
      "\u001b[0;31mNameError\u001b[0m                                 Traceback (most recent call last)",
      "\u001b[0;32m<ipython-input-7-f22f6615780c>\u001b[0m in \u001b[0;36m<module>\u001b[0;34m()\u001b[0m\n\u001b[0;32m----> 1\u001b[0;31m \u001b[0mc\u001b[0m\u001b[0;34m=\u001b[0m\u001b[0mnp\u001b[0m\u001b[0;34m.\u001b[0m\u001b[0marray\u001b[0m\u001b[0;34m(\u001b[0m\u001b[0;34m[\u001b[0m\u001b[0;36m1\u001b[0m\u001b[0;34m,\u001b[0m\u001b[0;36m2\u001b[0m\u001b[0;34m,\u001b[0m\u001b[0;36m3\u001b[0m\u001b[0;34m,\u001b[0m\u001b[0;36m4\u001b[0m\u001b[0;34m,\u001b[0m\u001b[0;36m5\u001b[0m\u001b[0;34m]\u001b[0m\u001b[0;34m)\u001b[0m\u001b[0;34m\u001b[0m\u001b[0m\n\u001b[0m\u001b[1;32m      2\u001b[0m \u001b[0md\u001b[0m\u001b[0;34m=\u001b[0m\u001b[0mnp\u001b[0m\u001b[0;34m.\u001b[0m\u001b[0marray\u001b[0m\u001b[0;34m(\u001b[0m\u001b[0;34m[\u001b[0m\u001b[0;36m1\u001b[0m\u001b[0;34m,\u001b[0m\u001b[0;36m2\u001b[0m\u001b[0;34m,\u001b[0m\u001b[0;36m3\u001b[0m\u001b[0;34m,\u001b[0m\u001b[0;36m4\u001b[0m\u001b[0;34m,\u001b[0m\u001b[0;36m6\u001b[0m\u001b[0;34m]\u001b[0m\u001b[0;34m)\u001b[0m\u001b[0;34m\u001b[0m\u001b[0m\n\u001b[1;32m      3\u001b[0m \u001b[0;32mdef\u001b[0m \u001b[0mbigger\u001b[0m\u001b[0;34m(\u001b[0m\u001b[0ma\u001b[0m\u001b[0;34m,\u001b[0m\u001b[0mb\u001b[0m\u001b[0;34m)\u001b[0m\u001b[0;34m:\u001b[0m\u001b[0;34m\u001b[0m\u001b[0m\n\u001b[1;32m      4\u001b[0m     \u001b[0;32mfor\u001b[0m \u001b[0mi\u001b[0m \u001b[0;32min\u001b[0m \u001b[0mrange\u001b[0m\u001b[0;34m(\u001b[0m\u001b[0mlen\u001b[0m\u001b[0;34m(\u001b[0m\u001b[0ma\u001b[0m\u001b[0;34m)\u001b[0m\u001b[0;34m)\u001b[0m\u001b[0;34m:\u001b[0m\u001b[0;34m\u001b[0m\u001b[0m\n\u001b[1;32m      5\u001b[0m         \u001b[0;32mif\u001b[0m \u001b[0ma\u001b[0m\u001b[0;34m[\u001b[0m\u001b[0mi\u001b[0m\u001b[0;34m]\u001b[0m\u001b[0;34m>\u001b[0m\u001b[0mb\u001b[0m\u001b[0;34m[\u001b[0m\u001b[0mi\u001b[0m\u001b[0;34m]\u001b[0m\u001b[0;34m:\u001b[0m\u001b[0;34m\u001b[0m\u001b[0m\n",
      "\u001b[0;31mNameError\u001b[0m: name 'np' is not defined"
     ]
    }
   ],
   "source": [
    "c=np.array([1,2,3,4,5])\n",
    "d=np.array([1,2,3,4,6])\n",
    "def bigger(a,b):\n",
    "    for i in range(len(a)):\n",
    "        if a[i]>b[i]:\n",
    "            print(a[i])\n",
    "        else:\n",
    "            print(b[i])\n",
    "print(c*2)\n",
    "print(\"------------\")\n",
    "bigger(c,d)\n",
    "\n"
   ]
  },
  {
   "cell_type": "code",
   "execution_count": 10,
   "metadata": {},
   "outputs": [
    {
     "data": {
      "text/plain": [
       "2"
      ]
     },
     "execution_count": 10,
     "metadata": {},
     "output_type": "execute_result"
    }
   ],
   "source": [
    "equal=[(-1,25),(0,75)]\n",
    "less=[(-1,25),(0,100)]\n",
    "more=[(-1,100),(0,75)]\n",
    "import bisect\n",
    "bisect.bisect_left(more,(2,0))"
   ]
  },
  {
   "cell_type": "code",
   "execution_count": 16,
   "metadata": {},
   "outputs": [
    {
     "name": "stdout",
     "output_type": "stream",
     "text": [
      "[[[1.   1.   2.   0.35]\n",
      "  [1.   1.   2.   0.78]]\n",
      "\n",
      " [[1.   1.   2.   0.35]\n",
      "  [1.   1.   2.   0.78]]\n",
      "\n",
      " [[1.   1.   2.   0.35]\n",
      "  [1.   1.   2.   0.78]]]\n",
      "(3, 2, 4)\n"
     ]
    }
   ],
   "source": [
    "a=[[1,1,2,0.35],[1,1,2,0.78]]\n",
    "input=np.array([a,a,a])\n",
    "print(input)\n",
    "print(input.shape)"
   ]
  },
  {
   "cell_type": "code",
   "execution_count": 44,
   "metadata": {},
   "outputs": [
    {
     "name": "stdout",
     "output_type": "stream",
     "text": [
      "[[[[0.  0.  0.  0.5]\n",
      "   [0.  0.  0.  0.6]]]\n",
      "\n",
      "\n",
      " [[[0.  0.  0.  0.6]\n",
      "   [0.  0.  0.  0.7]]]\n",
      "\n",
      "\n",
      " [[[0.  0.  0.  0.7]\n",
      "   [0.  0.  0.  0.8]]]\n",
      "\n",
      "\n",
      " [[[0.  0.  0.  0.8]\n",
      "   [0.  0.  0.  0.9]]]\n",
      "\n",
      "\n",
      " [[[0.  0.  0.  0.9]\n",
      "   [0.  0.  0.  1. ]]]]\n",
      "[0.5 0.6 0.7 0.8 0.9]\n"
     ]
    }
   ],
   "source": [
    "a=np.zeros((5,1,2,4))\n",
    "# print(a)\n",
    "for i in range(5):\n",
    "    for j in range(2):\n",
    "        a[i][0][j][-1]=(i+j+5)/10\n",
    "print(a)\n",
    "print(np.min(a[:,0,:,-1],axis=1))"
   ]
  },
  {
   "cell_type": "code",
   "execution_count": 5,
   "metadata": {},
   "outputs": [
    {
     "name": "stdout",
     "output_type": "stream",
     "text": [
      "(tensor([[1, 1, 1],\n",
      "        [2, 2, 2],\n",
      "        [3, 3, 3],\n",
      "        [4, 4, 4]]), tensor([1, 2, 3, 4]), tensor([11, 21, 31, 41]))\n",
      "tensor([[1, 1, 1],\n",
      "        [2, 2, 2]]) tensor([1, 2]) tensor([11, 21])\n",
      "-------------\n",
      "tensor([[3, 3, 3],\n",
      "        [4, 4, 4]]) tensor([3, 4]) tensor([31, 41])\n",
      "-------------\n"
     ]
    }
   ],
   "source": [
    "import torch\n",
    "from torch.utils.data import TensorDataset\n",
    "from torch.utils import data \n",
    "a = torch.tensor([[1,1,1],[2,2,2],[3,3,3],[4,4,4]])\n",
    "# b的第一维与a相同\n",
    "b = torch.tensor([1,2,3,4])\n",
    "c= torch.tensor([11,21,31,41])\n",
    "train_data = TensorDataset(a,b,c)\n",
    "train_loader = data.DataLoader(train_data,batch_size=2,shuffle=False)\n",
    "print(train_data[0:4])\n",
    "for i,(x,y,z) in enumerate(train_loader):\n",
    "    print(x,y,z)\n",
    "    print(\"-------------\")"
   ]
  },
  {
   "cell_type": "code",
   "execution_count": 43,
   "metadata": {},
   "outputs": [
    {
     "name": "stdout",
     "output_type": "stream",
     "text": [
      "[[ -2.]\n",
      " [ -2.]\n",
      " [ -2.]\n",
      " [ -2.]\n",
      " [ -2.]\n",
      " [ -2.]\n",
      " [100.]\n",
      " [100.]\n",
      " [100.]\n",
      " [100.]]\n"
     ]
    },
    {
     "name": "stderr",
     "output_type": "stream",
     "text": [
      "/home/lyx15279830673/anaconda3/envs/ready/lib/python3.8/site-packages/torch/cuda/__init__.py:83: UserWarning: CUDA initialization: Unexpected error from cudaGetDeviceCount(). Did you run some cuda functions before calling NumCudaDevices() that might have already set an error? Error 804: forward compatibility was attempted on non supported HW (Triggered internally at  ../c10/cuda/CUDAFunctions.cpp:109.)\n",
      "  return torch._C._cuda_getDeviceCount() > 0\n"
     ]
    },
    {
     "ename": "TypeError",
     "evalue": "where() received an invalid combination of arguments - got (numpy.ndarray, numpy.ndarray, int), but expected one of:\n * (Tensor condition)\n * (Tensor condition, Tensor input, Tensor other, *, Tensor out)\n * (Tensor condition, Number self, Tensor other)\n      didn't match because some of the arguments have invalid types: (!numpy.ndarray!, !numpy.ndarray!, !int!)\n * (Tensor condition, Tensor input, Number other)\n      didn't match because some of the arguments have invalid types: (!numpy.ndarray!, !numpy.ndarray!, !int!)\n * (Tensor condition, Number self, Number other)\n      didn't match because some of the arguments have invalid types: (!numpy.ndarray!, !numpy.ndarray!, !int!)\n",
     "output_type": "error",
     "traceback": [
      "\u001b[0;31m---------------------------------------------------------------------------\u001b[0m",
      "\u001b[0;31mTypeError\u001b[0m                                 Traceback (most recent call last)",
      "Cell \u001b[0;32mIn[43], line 9\u001b[0m\n\u001b[1;32m      7\u001b[0m         a[i][\u001b[39m0\u001b[39m]\u001b[39m=\u001b[39m\u001b[39m-\u001b[39m\u001b[39m2\u001b[39m\n\u001b[1;32m      8\u001b[0m \u001b[39mprint\u001b[39m(a)\n\u001b[0;32m----> 9\u001b[0m \u001b[39mprint\u001b[39m(torch\u001b[39m.\u001b[39;49mwhere(a\u001b[39m>\u001b[39;49m\u001b[39m=\u001b[39;49m\u001b[39m0\u001b[39;49m,a,\u001b[39m0\u001b[39;49m))\n",
      "\u001b[0;31mTypeError\u001b[0m: where() received an invalid combination of arguments - got (numpy.ndarray, numpy.ndarray, int), but expected one of:\n * (Tensor condition)\n * (Tensor condition, Tensor input, Tensor other, *, Tensor out)\n * (Tensor condition, Number self, Tensor other)\n      didn't match because some of the arguments have invalid types: (!numpy.ndarray!, !numpy.ndarray!, !int!)\n * (Tensor condition, Tensor input, Number other)\n      didn't match because some of the arguments have invalid types: (!numpy.ndarray!, !numpy.ndarray!, !int!)\n * (Tensor condition, Number self, Number other)\n      didn't match because some of the arguments have invalid types: (!numpy.ndarray!, !numpy.ndarray!, !int!)\n"
     ]
    }
   ],
   "source": [
    "def C_prob(less_histogram,more_histogram,equal_histogram,screen_type,screen_value,total):\n",
    "    #0:None   ;    1=   ;   2>=   ;  3<=    ;   4[]\n",
    "    if screen_type==0:\n",
    "        return [-1,1]\n",
    "    elif screen_type==1:\n",
    "        th=bisect.bisect(equal_histogram,(screen_value,0))\n",
    "        return [screen_value/(equal_histogram[-1][0]-equal_histogram[0][0]),equal_histogram[th][1]/total]\n",
    "    elif screen_type==2:\n",
    "        th=bisect.bisect_left(more_histogram,(screen_value,0))\n",
    "        if th==len(more_histogram):\n",
    "            return [screen_value/(equal_histogram[-1][0]-equal_histogram[0][0]),0]\n",
    "        else:\n",
    "            return [screen_value/(equal_histogram[-1][0]-equal_histogram[0][0]),more_histogram[th][1]/total]\n",
    "    elif screen_type==3:\n",
    "        th=bisect.bisect_right(less_histogram,(screen_value,0))\n",
    "        if th==0:\n",
    "            return [screen_value/(equal_histogram[-1][0]-equal_histogram[0][0]),0]\n",
    "        else:\n",
    "            return [screen_value/(equal_histogram[-1][0]-equal_histogram[0][0]),less_histogram[th-1][1]/total]\n",
    "    elif screen_type==4:\n",
    "        th1=bisect.bisect_left(more_histogram,(screen_value[0],0))\n",
    "        if th1==len(more_histogram):\n",
    "            more_count=0\n",
    "        else:\n",
    "            more_count=more_histogram[th1][1]\n",
    "\n",
    "        th2=bisect.bisect_right(less_histogram,(screen_value[1],0))\n",
    "        if th2==0:\n",
    "            less_count=0\n",
    "        else:\n",
    "            less_count=less_histogram[th2-1][1]\n",
    "        return (more_count+less_count-total)/total"
   ]
  },
  {
   "cell_type": "code",
   "execution_count": 4,
   "metadata": {},
   "outputs": [
    {
     "name": "stdout",
     "output_type": "stream",
     "text": [
      "True\n",
      "cuda:0\n",
      "NVIDIA GeForce RTX 3090\n",
      "tensor([[0.7230, 0.9345, 0.3499],\n",
      "        [0.2436, 0.9583, 0.4768],\n",
      "        [0.5262, 0.5660, 0.1395]], device='cuda:0')\n"
     ]
    }
   ],
   "source": [
    "import torch\n",
    "flag = torch.cuda.is_available()\n",
    "print(flag)\n",
    "\n",
    "ngpu= 1\n",
    "# Decide which device we want to run on\n",
    "device = torch.device(\"cuda:0\" if (torch.cuda.is_available() and ngpu > 0) else \"cpu\")\n",
    "print(device)\n",
    "print(torch.cuda.get_device_name(0))\n",
    "print(torch.rand(3,3).cuda()) \n"
   ]
  },
  {
   "cell_type": "code",
   "execution_count": 1,
   "metadata": {},
   "outputs": [
    {
     "name": "stdout",
     "output_type": "stream",
     "text": [
      "[4, 5, 6, 7, 8]\n"
     ]
    }
   ],
   "source": [
    "a=[1,2,3]\n",
    "b=[1,2,3,4,5,6,7,8]\n",
    "print(b[len(a):])"
   ]
  },
  {
   "cell_type": "code",
   "execution_count": 5,
   "metadata": {},
   "outputs": [
    {
     "name": "stdout",
     "output_type": "stream",
     "text": [
      "1\n",
      "1\n",
      "1\n",
      "0\n",
      "1\n",
      "0\n",
      "1\n",
      "0\n",
      "1\n",
      "0\n"
     ]
    }
   ],
   "source": [
    "import random\n",
    "\n",
    "for i in range(10):\n",
    "    n =random.randint(0,1)\n",
    "    print(n)"
   ]
  }
 ],
 "metadata": {
  "kernelspec": {
   "display_name": "Python 3 (ipykernel)",
   "language": "python",
   "name": "python3"
  },
  "language_info": {
   "codemirror_mode": {
    "name": "ipython",
    "version": 3
   },
   "file_extension": ".py",
   "mimetype": "text/x-python",
   "name": "python",
   "nbconvert_exporter": "python",
   "pygments_lexer": "ipython3",
   "version": "3.7.0"
  },
  "vscode": {
   "interpreter": {
    "hash": "09f1a2ffb2cedd8f3d8e0871cf7012746c6415fc4c8bc8cc7a5d557999394386"
   }
  }
 },
 "nbformat": 4,
 "nbformat_minor": 2
}
